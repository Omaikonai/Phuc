{
 "cells": [
  {
   "cell_type": "code",
   "execution_count": 7,
   "metadata": {},
   "outputs": [
    {
     "name": "stdout",
     "output_type": "stream",
     "text": [
      "[75, 25, 89, 98, 28, 43, 36, 52, 51, 15]\n",
      "Index out of range. Please enter n in range (0, 9)\n",
      "Invalid input. Please enter an integer number\n",
      "8 8 6.375\n"
     ]
    }
   ],
   "source": [
    "import random as rd\n",
    "\n",
    "numbers = rd.sample(range(1, 100), 10)\n",
    "print(numbers)\n",
    "while True:\n",
    "    try:\n",
    "        n = int(input(\"Enter n: \"))\n",
    "        a = int(input(\"Enter a: \"))\n",
    "\n",
    "        b = numbers[n] / a\n",
    "\n",
    "        print(n, a, b)\n",
    "        break\n",
    "    except ValueError:\n",
    "        print('Invalid input. Please enter an integer number')\n",
    "    except IndexError:\n",
    "        print('Index out of range. Please enter n in range (0, 9)')\n",
    "    except ZeroDivisionError:\n",
    "        print('Zero division error. Please enter a different number than 0')\n",
    "    "
   ]
  },
  {
   "cell_type": "code",
   "execution_count": 22,
   "metadata": {},
   "outputs": [],
   "source": [
    "class Employee:\n",
    "    def __init__(self, name, salary, age):\n",
    "        try:\n",
    "            salary = int(salary)\n",
    "        except ValueError:\n",
    "            raise ValueError('Salary must be an integer number')\n",
    "        try:\n",
    "            age = int(age)\n",
    "        except ValueError:\n",
    "            raise ValueError('Age must be an integer number')\n",
    "        \n",
    "        if name == '':\n",
    "            raise ValueError('Name cannot be empty')\n",
    "        if salary <= 0:\n",
    "            raise ValueError('Salary must be positive')\n",
    "        if age < 18 or age > 65:\n",
    "            raise ValueError('Age must be in range [18, 65]')\n",
    "        \n",
    "        \n",
    "        \n",
    "        self.__name = name\n",
    "        self.__salary = salary\n",
    "        self.__age = age\n",
    "    def show(self):\n",
    "        print(f'Name: {self.__name}, Salary: {self.__salary}, Age: {self.__age}')"
   ]
  },
  {
   "cell_type": "code",
   "execution_count": 26,
   "metadata": {},
   "outputs": [
    {
     "name": "stdout",
     "output_type": "stream",
     "text": [
      "Name: John, Salary: 1000, Age: 25\n",
      "Name: Paul, Salary: 2000, Age: 20\n",
      "Name: Mike, Salary: 3000, Age: 40\n"
     ]
    }
   ],
   "source": [
    "john = Employee('John', 1000, 25)\n",
    "john.show()\n",
    "# paul = Employee('', 2000, 30) # ValueError (Name cannot be empty)\n",
    "# mike = Employee('Mike', -1000, 40) # ValueError (Salary must be positive)\n",
    "# peter = Employee('Peter', 3000, 16) # ValueError (Age must be in range [18, 65])\n",
    "paul = Employee('Paul', '2000', 20)\n",
    "paul.show()\n",
    "\n",
    "mike = Employee('Mike', 3000, '40')\n",
    "mike.show()"
   ]
  }
 ],
 "metadata": {
  "kernelspec": {
   "display_name": "Python 3",
   "language": "python",
   "name": "python3"
  },
  "language_info": {
   "codemirror_mode": {
    "name": "ipython",
    "version": 3
   },
   "file_extension": ".py",
   "mimetype": "text/x-python",
   "name": "python",
   "nbconvert_exporter": "python",
   "pygments_lexer": "ipython3",
   "version": "3.9.12"
  }
 },
 "nbformat": 4,
 "nbformat_minor": 2
}
